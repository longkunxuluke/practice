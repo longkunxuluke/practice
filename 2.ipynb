{
 "metadata": {
  "language_info": {
   "codemirror_mode": {
    "name": "ipython",
    "version": 3
   },
   "file_extension": ".py",
   "mimetype": "text/x-python",
   "name": "python",
   "nbconvert_exporter": "python",
   "pygments_lexer": "ipython3",
   "version": 3
  },
  "orig_nbformat": 2,
  "kernelspec": {
   "name": "python_defaultSpec_1597559660885",
   "display_name": "Python 3.7.7 64-bit ('myenv': conda)"
  }
 },
 "nbformat": 4,
 "nbformat_minor": 2,
 "cells": [
  {
   "cell_type": "code",
   "execution_count": 2,
   "metadata": {},
   "outputs": [],
   "source": [
    "from sklearn.datasets import load_boston\n",
    "boston = load_boston()"
   ]
  },
  {
   "cell_type": "code",
   "execution_count": 3,
   "metadata": {
    "tags": []
   },
   "outputs": [
    {
     "output_type": "stream",
     "name": "stdout",
     "text": ".. _boston_dataset:\n\nBoston house prices dataset\n---------------------------\n\n**Data Set Characteristics:**  \n\n    :Number of Instances: 506 \n\n    :Number of Attributes: 13 numeric/categorical predictive. Median Value (attribute 14) is usually the target.\n\n    :Attribute Information (in order):\n        - CRIM     per capita crime rate by town\n        - ZN       proportion of residential land zoned for lots over 25,000 sq.ft.\n        - INDUS    proportion of non-retail business acres per town\n        - CHAS     Charles River dummy variable (= 1 if tract bounds river; 0 otherwise)\n        - NOX      nitric oxides concentration (parts per 10 million)\n        - RM       average number of rooms per dwelling\n        - AGE      proportion of owner-occupied units built prior to 1940\n        - DIS      weighted distances to five Boston employment centres\n        - RAD      index of accessibility to radial highways\n        - TAX      full-value property-tax rate per $10,000\n        - PTRATIO  pupil-teacher ratio by town\n        - B        1000(Bk - 0.63)^2 where Bk is the proportion of blacks by town\n        - LSTAT    % lower status of the population\n        - MEDV     Median value of owner-occupied homes in $1000's\n\n    :Missing Attribute Values: None\n\n    :Creator: Harrison, D. and Rubinfeld, D.L.\n\nThis is a copy of UCI ML housing dataset.\nhttps://archive.ics.uci.edu/ml/machine-learning-databases/housing/\n\n\nThis dataset was taken from the StatLib library which is maintained at Carnegie Mellon University.\n\nThe Boston house-price data of Harrison, D. and Rubinfeld, D.L. 'Hedonic\nprices and the demand for clean air', J. Environ. Economics & Management,\nvol.5, 81-102, 1978.   Used in Belsley, Kuh & Welsch, 'Regression diagnostics\n...', Wiley, 1980.   N.B. Various transformations are used in the table on\npages 244-261 of the latter.\n\nThe Boston house-price data has been used in many machine learning papers that address regression\nproblems.   \n     \n.. topic:: References\n\n   - Belsley, Kuh & Welsch, 'Regression diagnostics: Identifying Influential Data and Sources of Collinearity', Wiley, 1980. 244-261.\n   - Quinlan,R. (1993). Combining Instance-Based and Model-Based Learning. In Proceedings on the Tenth International Conference of Machine Learning, 236-243, University of Massachusetts, Amherst. Morgan Kaufmann.\n\n"
    }
   ],
   "source": [
    "print(boston.DESCR)"
   ]
  },
  {
   "cell_type": "code",
   "execution_count": 5,
   "metadata": {
    "tags": []
   },
   "outputs": [
    {
     "output_type": "stream",
     "name": "stdout",
     "text": "input         RM\n0    6.575\n1    6.421\n2    7.185\n3    6.998\n4    7.147\n..     ...\n501  6.593\n502  6.120\n503  6.976\n504  6.794\n505  6.030\n\n[506 rows x 1 columns]\noutput 0      24.0\n1      21.6\n2      34.7\n3      33.4\n4      36.2\n       ... \n501    22.4\n502    20.6\n503    23.9\n504    22.0\n505    11.9\nName: MEDV, Length: 506, dtype: float64\n"
    }
   ],
   "source": [
    "import pandas as pd \n",
    "df = pd.DataFrame(boston.data,columns = boston.feature_names)\n",
    "df['MEDV'] = boston.target\n",
    "x = df.RM.to_frame()\n",
    "y = df.MEDV\n",
    "print('input',x)\n",
    "print('output',y)"
   ]
  },
  {
   "cell_type": "code",
   "execution_count": 7,
   "metadata": {},
   "outputs": [],
   "source": [
    "from sklearn.model_selection import train_test_split\n",
    "x_train,x_test,y_train,y_test = train_test_split(x,y,test_size = 0.3,random_state = 0)\n"
   ]
  },
  {
   "cell_type": "code",
   "execution_count": 8,
   "metadata": {
    "tags": []
   },
   "outputs": [
    {
     "output_type": "stream",
     "name": "stdout",
     "text": "LinearRegression()\n[ 2.29742916e+01  2.18848663e+01  2.33467448e+01  1.38119448e+01\n  2.20338475e+01  1.83279389e+01  1.89890432e+01  1.95756569e+01\n  1.03108855e+01  2.36447073e+01  1.94732323e+01  2.59911619e+01\n  2.30487823e+01  7.32194917e+00  3.66526326e+01  2.95667119e+01\n  2.21269608e+01  3.18572986e+01  2.49576045e+01  1.84769202e+01\n  2.38402452e+01  1.87562600e+01  2.10561581e+01  2.43616795e+01\n  1.69126171e+01 -2.46886698e-02  1.95477229e+01  1.71640229e+01\n  3.91387572e+01  2.07302616e+01  2.15962151e+01  2.06278370e+01\n  2.19779795e+01  2.07581956e+01  2.37471319e+01  1.80392878e+01\n  1.97525721e+01  1.87097034e+01  2.31139616e+01  2.13820545e+01\n  2.10561581e+01  1.78809952e+01  2.12144506e+01  1.45382284e+01\n  2.49017366e+01  2.37936885e+01  1.79182405e+01  2.10747807e+01\n  9.65909252e+00  2.66429549e+01  2.12889413e+01  1.68008811e+01\n  1.96967042e+01  4.09079095e+01  1.76109667e+01  1.88400620e+01\n  1.71360890e+01  1.89238639e+01  1.76109667e+01  1.95011663e+01\n  1.87935053e+01  2.09257995e+01  2.90173436e+01  2.50134725e+01\n  1.72012682e+01  2.50507178e+01  2.59725393e+01  2.33839901e+01\n  2.78068709e+01  1.88586846e+01  2.24714799e+01  2.25366592e+01\n  2.25739045e+01  2.80117201e+01  2.68571154e+01  1.05622913e+01\n  4.07961736e+01  2.29091123e+01  2.37564432e+01  1.79554858e+01\n  2.55162842e+01  2.41009623e+01  1.62235788e+01  4.09730888e+01\n  4.52469884e+01  2.27787538e+01  2.13913659e+01  1.83558729e+01\n  2.46223967e+01  2.03484971e+01  1.88307507e+01  2.57304448e+01\n  2.08792428e+01  2.79837861e+01  2.01529592e+01  2.08792428e+01\n  2.53592655e+00  2.34398580e+01  2.47620666e+01  1.74619854e+01\n  2.33653674e+01  2.42871889e+01  2.87286924e+01  1.95104776e+01\n  2.82258807e+01  1.99853553e+01  1.33929351e+01  1.02177722e+01\n  2.09909788e+01  2.44827268e+01  2.86542018e+01  1.63073808e+01\n  2.14751678e+01  1.86817694e+01  1.64377393e+01  2.04695444e+01\n  1.92683831e+01  2.33374334e+01  1.08974991e+01  3.77793033e+01\n  2.67546908e+01  1.54041819e+01  1.61677108e+01  2.00505346e+01\n  1.96129022e+01  1.87469487e+01  3.30957053e+01  1.61956448e+01\n  1.91938925e+01  3.16710721e+01  2.42592549e+01  2.71550779e+01\n  1.97153268e+01  1.87097034e+01  2.75461537e+01  3.15034682e+01\n  2.06743936e+01  1.43147565e+01  2.65591530e+01  2.39147358e+01\n  2.34119241e+01  1.91845811e+01  2.89987209e+01  2.46317080e+01\n  2.24156120e+01  1.81324011e+01  3.04419768e+01  3.05537127e+01\n  2.16707057e+01  1.31415292e+01  2.57863127e+01  2.38774905e+01]\n"
    }
   ],
   "source": [
    "from sklearn.linear_model import LinearRegression\n",
    "lr = LinearRegression()\n",
    "lr.fit(x_train,y_train)\n",
    "print(lr)\n",
    "y_pred = lr.predict(x_test)\n",
    "print(y_pred)"
   ]
  },
  {
   "cell_type": "code",
   "execution_count": 9,
   "metadata": {
    "tags": []
   },
   "outputs": [
    {
     "output_type": "stream",
     "name": "stdout",
     "text": "47.03304747975518\n"
    }
   ],
   "source": [
    "from sklearn.metrics import mean_squared_error\n",
    "mse = mean_squared_error(y_test,y_pred)\n",
    "print(mse)"
   ]
  },
  {
   "cell_type": "code",
   "execution_count": null,
   "metadata": {},
   "outputs": [],
   "source": []
  }
 ]
}