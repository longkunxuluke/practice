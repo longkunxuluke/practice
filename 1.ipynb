{
 "metadata": {
  "language_info": {
   "codemirror_mode": {
    "name": "ipython",
    "version": 3
   },
   "file_extension": ".py",
   "mimetype": "text/x-python",
   "name": "python",
   "nbconvert_exporter": "python",
   "pygments_lexer": "ipython3",
   "version": 3
  },
  "orig_nbformat": 2,
  "kernelspec": {
   "name": "python_defaultSpec_1597476111116",
   "display_name": "Python 3.7.7 64-bit ('myenv': conda)"
  }
 },
 "nbformat": 4,
 "nbformat_minor": 2,
 "cells": [
  {
   "cell_type": "code",
   "execution_count": 3,
   "metadata": {},
   "outputs": [],
   "source": [
    "import numpy as np\n",
    "import pandas as pd \n",
    "df = pd.read_csv('in.csv',dtype = 'float')"
   ]
  },
  {
   "cell_type": "code",
   "execution_count": 4,
   "metadata": {
    "tags": []
   },
   "outputs": [
    {
     "output_type": "stream",
     "name": "stdout",
     "text": "Weight  Waist  JumpSkill\n0   191.0   36.0        2.0\n1   189.0   37.0        2.0\n2   193.0   38.0        3.0\n3   162.0   35.0        1.0\n4   189.0   35.0        2.0\ninput [[191.  36.]\n [189.  37.]\n [193.  38.]\n [162.  35.]\n [189.  35.]\n [182.  36.]\n [211.  38.]\n [167.  34.]\n [176.  31.]\n [154.  33.]\n [169.  34.]\n [166.  33.]\n [154.  34.]\n [247.  46.]\n [193.  36.]\n [202.  37.]\n [176.  37.]\n [157.  32.]\n [156.  33.]\n [138.  33.]]\noutput [2. 2. 3. 1. 2. 1. 1. 1. 1. 3. 1. 3. 3. 2. 1. 3. 1. 2. 2. 2.]\n"
    }
   ],
   "source": [
    "print(df.head())\n",
    "x = df[['Weight','Waist']].values\n",
    "y = df['JumpSkill'].values\n",
    "print('input',x)\n",
    "print('output',y)"
   ]
  },
  {
   "cell_type": "code",
   "execution_count": 5,
   "metadata": {
    "tags": []
   },
   "outputs": [
    {
     "output_type": "stream",
     "name": "stdout",
     "text": "xinputfortrain [[169.  34.]\n [157.  32.]\n [211.  38.]\n [247.  46.]\n [189.  35.]\n [193.  38.]\n [182.  36.]\n [193.  36.]\n [154.  33.]\n [167.  34.]\n [176.  37.]\n [166.  33.]\n [162.  35.]\n [191.  36.]\n [202.  37.]\n [154.  34.]]\nyinputfortrain [1. 2. 1. 2. 2. 3. 1. 1. 3. 1. 1. 3. 1. 2. 3. 3.]\nxfortest [[156.  33.]\n [189.  37.]\n [138.  33.]\n [176.  31.]]\nyfortest [2. 2. 2. 1.]\n"
    }
   ],
   "source": [
    "from sklearn.model_selection import train_test_split\n",
    "x_train,x_test,y_train,y_test = train_test_split(x,y,test_size = 0.2,random_state = 0)\n",
    "print('xinputfortrain',x_train)\n",
    "print('yinputfortrain',y_train)\n",
    "print('xfortest',x_test)\n",
    "print('yfortest',y_test)\n"
   ]
  },
  {
   "cell_type": "code",
   "execution_count": 6,
   "metadata": {
    "tags": []
   },
   "outputs": [
    {
     "output_type": "stream",
     "name": "stdout",
     "text": "DecisionTreeClassifier()\nestimated_output [2. 2. 3. 3.]\n"
    }
   ],
   "source": [
    "from sklearn import tree\n",
    "clf = tree.DecisionTreeClassifier()\n",
    "clf.fit(x_train,y_train)\n",
    "print(clf)\n",
    "y_pred = clf.predict(x_test)\n",
    "print('estimated_output',y_pred)\n"
   ]
  },
  {
   "cell_type": "code",
   "execution_count": 8,
   "metadata": {
    "tags": []
   },
   "outputs": [
    {
     "output_type": "stream",
     "name": "stdout",
     "text": "0.5\n"
    }
   ],
   "source": [
    "from sklearn.metrics import accuracy_score\n",
    "print(accuracy_score(y_test,y_pred))"
   ]
  },
  {
   "cell_type": "code",
   "execution_count": null,
   "metadata": {},
   "outputs": [],
   "source": []
  }
 ]
}